{
 "cells": [
  {
   "cell_type": "markdown",
   "metadata": {},
   "source": [
    "# Introduction\n",
    "Based on stuf by Michael Droettboom (Space Telescope Science Institute)\n",
    "- http://github.com/dmcdougall/strata-mpl-tutorial \n",
    "\n",
    "Matplotlib is probably the single most used Python package for 2D-graphics. It provides both a very quick way to visualize data from Python and publication-quality figures in many formats.\n",
    "\n",
    "![Parts of a figure](matplotlib-anatomy.png)\n",
    "\n",
    "Most of the terms are straightforward but the main thing to remember is that the `Figure` is the final image that may contain 1 or more axes. The `Axes` represent an individual plot."
   ]
  },
  {
   "cell_type": "code",
   "execution_count": 1,
   "metadata": {},
   "outputs": [],
   "source": [
    "# use the 'tk' backend so plots come up in windows\n",
    "%matplotlib tk\n",
    "# use default settings \n",
    "from matplotlib import rcdefaults\n",
    "rcdefaults()"
   ]
  },
  {
   "cell_type": "markdown",
   "metadata": {},
   "source": [
    "# Basic Plots"
   ]
  },
  {
   "cell_type": "code",
   "execution_count": 2,
   "metadata": {},
   "outputs": [],
   "source": [
    "import numpy as np\n",
    "import matplotlib.pyplot as plt\n",
    "\n",
    "def f(x, noise_amount):\n",
    "    y = np.sqrt(x) * np.sin(x)\n",
    "    noise = np.random.normal(0, 1, len(x))\n",
    "    return y + noise_amount * noise\n",
    "\n",
    "X_data  = np.linspace(0, 4.*np.pi, 25)\n",
    "y_data = f(X_data, noise_amount=0.5)\n",
    "\n",
    "X_plot = np.linspace(0, 4.*np.pi, 250)\n",
    "y_plot = f(X_plot, noise_amount=0.)\n",
    "\n",
    "# Below we set up a basic figure \n",
    "\n",
    "plt.figure()\n",
    "plt.scatter(X_data , y_data)\n",
    "plt.scatter(X_data , y_data  + 2.)\n",
    "plt.plot(X_plot, y_plot)\n",
    "\n",
    "plt.show()"
   ]
  },
  {
   "cell_type": "markdown",
   "metadata": {},
   "source": [
    "Let's make our x axis a bit more meaningul, and add some labels:"
   ]
  },
  {
   "cell_type": "code",
   "execution_count": 3,
   "metadata": {},
   "outputs": [],
   "source": [
    "plt.figure()\n",
    "plt.scatter(X_data , y_data)\n",
    "plt.scatter(X_data , y_data  + 2.)\n",
    "# Put ticks exactly where we want them.\n",
    "plt.xticks([0., np.pi/2, np.pi, 3*np.pi/2, 2*np.pi])\n",
    "# Set limits of the x axis - we could have used plt.ylim too.\n",
    "plt.xlim(0., 2*np.pi)\n",
    "# We can add labels and change this properties (size etc)\n",
    "plt.xlabel('Theta', fontsize=20, color='blue')\n",
    "plt.ylabel('Phi', fontsize=20, color='red')\n",
    "plt.plot(X_plot, y_plot)\n",
    "\n",
    "plt.show()"
   ]
  },
  {
   "cell_type": "markdown",
   "metadata": {},
   "source": [
    "We can use Latex inside matplotlib! Just add an r before the string and inclose your maths in dollar signs i.e. ```r'$\\omega$'```"
   ]
  },
  {
   "cell_type": "code",
   "execution_count": 4,
   "metadata": {},
   "outputs": [],
   "source": [
    "plt.figure()\n",
    "plt.scatter(X_data , y_data)\n",
    "plt.scatter(X_data , y_data  + 2.)\n",
    "# Add custom labels to ticks\n",
    "plt.xticks([0., np.pi/2, np.pi, 3*np.pi/2, 2*np.pi],\n",
    "           [r'$0$', r'$\\pi/2$', r'$\\pi$', r'$3\\pi/2$', r'$2\\pi$'])\n",
    "# Set limits of the x axis\n",
    "plt.xlim(0., 2*np.pi)\n",
    "plt.xlabel(r'$\\Theta$', fontsize=20, color='blue')\n",
    "plt.ylabel(r'$\\Phi$', fontsize=20, color='red')\n",
    "plt.plot(X_plot, y_plot)\n",
    "\n",
    "plt.show()\n"
   ]
  },
  {
   "cell_type": "markdown",
   "metadata": {},
   "source": [
    "And let's annotate some stuff, and make something transparent (I almost always use this somewhere):"
   ]
  },
  {
   "cell_type": "code",
   "execution_count": 7,
   "metadata": {},
   "outputs": [],
   "source": [
    "plt.figure()\n",
    "plt.scatter(X_data , y_data)\n",
    "# Alpha goes between 0 and 1, with 0 completely transparent, and 1 unchanged. \n",
    "plt.scatter(X_data , y_data  + 2., alpha = 0.2)\n",
    "plt.xticks([0., np.pi/2, np.pi, 3*np.pi/2, 2*np.pi],\n",
    "           [r'$0$', r'$\\pi/2$', r'$\\pi$', r'$3\\pi/2$', r'$2\\pi$'])\n",
    "plt.xlim(0., 2*np.pi)\n",
    "plt.xlabel(r'$\\Theta$', fontsize=20, color='blue')\n",
    "plt.ylabel(r'$\\Phi$', fontsize=20, color='red')\n",
    "plt.plot(X_plot, y_plot)\n",
    "# You can dig into the documentation and find loads of cool arrows - but the main\n",
    "# important things here are 'xy' - the x and y coords of the point of the arrow\n",
    "# and 'xytext' - where to offset the annoation text to. \n",
    "plt.annotate(r'$\\mathrm{Middle}$',\n",
    "             xy=(np.pi, 0.), xycoords='data',\n",
    "             xytext=(-60, -60), textcoords='offset points', fontsize=16,\n",
    "             arrowprops=dict(arrowstyle=\"->\", connectionstyle=\"arc3,rad=.2\"))\n",
    "\n",
    "plt.show()"
   ]
  },
  {
   "cell_type": "markdown",
   "metadata": {},
   "source": [
    "In data science we often want Histograms - just use plt.hist()!"
   ]
  },
  {
   "cell_type": "code",
   "execution_count": 39,
   "metadata": {},
   "outputs": [],
   "source": [
    "samples = np.random.normal(size = 5000)\n",
    "plt.figure()\n",
    "# I often make my histograms a bit transparent by changing alpha.\n",
    "plt.hist(samples, bins=30, alpha=0.6)\n",
    "plt.show()"
   ]
  },
  {
   "cell_type": "markdown",
   "metadata": {},
   "source": [
    "We can even do a 2d Histogram!"
   ]
  },
  {
   "cell_type": "code",
   "execution_count": 59,
   "metadata": {},
   "outputs": [],
   "source": [
    "# This isn't needed unless we use a log scale.\n",
    "from matplotlib.colors import LogNorm\n",
    "\n",
    "# Get samples from a multivariate Gaussian where the variables are correlated.\n",
    "samples_2d = np.random.multivariate_normal(mean=[6., 12.0], cov=[[0.7, 0.3], [0.3, 0.7]], size=10000) \n",
    "\n",
    "x = samples_2d[:,0]\n",
    "y = samples_2d[:,1]\n",
    "\n",
    "plt.figure()\n",
    "plt.hist2d(x, y, bins = 20)\n",
    "# Optionally we can use a log scale:\n",
    "# plt.hist2d(x, y, bins = 20, norm=LogNorm())\n",
    "plt.colorbar()\n",
    "plt.show()"
   ]
  },
  {
   "cell_type": "markdown",
   "metadata": {},
   "source": [
    "# Subplots!\n",
    "\n",
    "More useful stuff here: https://matplotlib.org/examples/pylab_examples/subplots_demo.html, and here: https://matplotlib.org/examples/pylab_examples/demo_tight_layout.html\n",
    "\n",
    "The format is ```plt.subplot(#rows, #columns, which one to plot)```"
   ]
  },
  {
   "cell_type": "code",
   "execution_count": 21,
   "metadata": {},
   "outputs": [],
   "source": [
    "plt.figure()\n",
    "plt.subplot(2, 1, 1)\n",
    "plt.scatter(X_data , y_data)\n",
    "plt.subplot(2, 1, 2)\n",
    "plt.scatter(X_data , y_data)\n",
    "plt.show()"
   ]
  },
  {
   "cell_type": "code",
   "execution_count": 20,
   "metadata": {},
   "outputs": [],
   "source": [
    "plt.figure()\n",
    "plt.subplot(3, 1, 1)\n",
    "plt.scatter(X_data , y_data)\n",
    "plt.subplot(3, 1, 2)\n",
    "plt.scatter(X_data , y_data + 1.)\n",
    "plt.subplot(3, 1, 3)\n",
    "plt.scatter(X_data , y_data - 1.)\n",
    "plt.show()"
   ]
  },
  {
   "cell_type": "code",
   "execution_count": 22,
   "metadata": {},
   "outputs": [],
   "source": [
    "plt.figure()\n",
    "plt.subplot(1, 2, 1)\n",
    "plt.scatter(X_data , y_data)\n",
    "plt.subplot(1, 2, 2)\n",
    "plt.scatter(X_data , y_data)\n",
    "plt.show()"
   ]
  },
  {
   "cell_type": "markdown",
   "metadata": {},
   "source": [
    "Get even more control with the axes command. The format here is ```plt.axes([bottom corner x, bottom corner y, x size, y size])```. Probably the easiest way to figure it out is to just play around with it."
   ]
  },
  {
   "cell_type": "code",
   "execution_count": 33,
   "metadata": {},
   "outputs": [],
   "source": [
    "plt.figure()\n",
    "plt.axes([0.1, 0.1, 0.8, 0.8])\n",
    "plt.scatter(X_data , y_data)\n",
    "plt.axes([0.5, 0.3, 0.3, 0.5])\n",
    "plt.scatter(X_data, y_data)\n",
    "# Just the second half of the data in my weird small plot\n",
    "plt.xlim(np.pi, 2*np.pi)\n",
    "plt.show()"
   ]
  },
  {
   "cell_type": "markdown",
   "metadata": {},
   "source": [
    "There's a complicated, but cool zoom example in the matplotlib examples: http://matplotlib.org/examples/pylab_examples/axes_zoom_effect.html"
   ]
  },
  {
   "cell_type": "markdown",
   "metadata": {},
   "source": [
    "Matplotlib has two APIs: pyplot (we used that above - plt.plot() and so on) and the object-oriented API.\n",
    "\n",
    "pyplot is convenient for interactive plotting, since it remembers \"state\", such as the last Axes that was plotted to, in order to plot the next item to it again. Useful for exploratory data analysis. But best practices is to use the object-oriented API like I do below."
   ]
  },
  {
   "cell_type": "code",
   "execution_count": 3,
   "metadata": {},
   "outputs": [],
   "source": [
    "from sklearn.linear_model import BayesianRidge, LinearRegression\n",
    "\n",
    "\n",
    "\n",
    "degree = 10\n",
    "X_data  = np.linspace(0, 4.*np.pi, 25)\n",
    "y_data = f(X_data, noise_amount=0.5)\n",
    "\n",
    "X_plot = np.linspace(0, 4.*np.pi, 250)\n",
    "y_plot = f(X_plot, noise_amount=0.)\n",
    "clf_poly = BayesianRidge()\n",
    "clf_poly.fit(np.vander(X_data, degree), y_data)\n",
    "\n",
    "X_plot = np.linspace(0, 11, 25)\n",
    "y_plot = f(X_plot, noise_amount=0)\n",
    "y_mean, y_std = clf_poly.predict(np.vander(X_plot, degree), return_std=True)"
   ]
  },
  {
   "cell_type": "code",
   "execution_count": 23,
   "metadata": {},
   "outputs": [],
   "source": [
    "import numpy as np\n",
    "from matplotlib import style\n",
    "from matplotlib import rc\n",
    "rc('font',**{'family':'sans-serif','sans-serif':['Helvetica']})\n",
    "rc('text', usetex=True)\n",
    "import matplotlib.pyplot as plt\n",
    "from sklearn.linear_model import BayesianRidge, LinearRegression\n",
    "\n",
    "def f(x, noise_amount):\n",
    "    y = np.sin(x)\n",
    "    noise = np.random.normal(0, 1, len(x))\n",
    "    return y + noise_amount * noise\n",
    "\n",
    "X_data  = np.linspace(0, 2.*np.pi, 25)\n",
    "y_data = f(X_data, noise_amount=0.5)\n",
    "\n",
    "X_plot = np.linspace(-0.9, 2.*np.pi + 0.9, 250)\n",
    "y_plot = f(X_plot, noise_amount=0.)\n",
    "\n",
    "ys_store = []\n",
    "\n",
    "for degree in range(1, 7):\n",
    "    clf_poly = BayesianRidge(alpha_1=3.5)\n",
    "    clf_poly.fit(np.vander(X_data, degree), y_data)\n",
    "    y_mean, y_std = clf_poly.predict(np.vander(X_plot, degree), return_std=True)\n",
    "    ys_store.append((y_mean, y_std))\n",
    "\n",
    "style.use('seaborn')\n",
    "palette = plt.get_cmap('Set1')\n",
    "fig = plt.figure()\n",
    "\n",
    "for i in range(6):\n",
    "    ax = fig.add_subplot(3, 2, i+1)\n",
    "    y_mean, y_std = ys_store[i]\n",
    "    ax.scatter(X_data, y_data, color='blue', alpha=0.7)\n",
    "    ax.plot(X_plot, y_plot, 'b--', alpha = 0.3, label=r'$\\mathrm{Data}$')\n",
    "    degree = str(i)\n",
    "    label = ' '.join([degree, r'$\\mathrm{degree}$', r'$\\mathrm{poly}$'])\n",
    "    ax.plot(X_plot, y_mean, color=palette(i+2), alpha=0.9, label=label)\n",
    "    # Fill between is a very cool function - useful for showing standard deviation.\n",
    "    ax.fill_between(X_plot, y_mean + y_std, y_mean - y_std, alpha=0.3)\n",
    "    # This would be plt.xticks in the pyplot API.\n",
    "    # Often we have to use 'ax.set_something' in the object-oriented API\n",
    "    ax.set_xticks([0., np.pi/2, np.pi, 3*np.pi/2, 2*np.pi])\n",
    "    ax.set_xticklabels([r'$0$', r'$\\pi/2$', r'$\\pi$', r'$3\\pi/2$', r'$2\\pi$'])\n",
    "    ax.set_yticks([-1, 0, +1])\n",
    "    # Again - set_ylim rather than plt.ylim\n",
    "    ax.set_ylim(-2.5, 2.5)\n",
    "    ax.set_xlim(-0.9, 2.*np.pi + 0.9)\n",
    "    if i in range(4):\n",
    "        ax.tick_params(labelbottom='off')\n",
    "    if i not in [0,2,4]:\n",
    "        ax.tick_params(labelleft='off')\n",
    "    if i == 5:\n",
    "        ax.annotate(r'$\\mathrm{Overfitting}$',\n",
    "             xy=(X_plot[-10], y_mean[-10]), xycoords='data',\n",
    "             xytext=(-50, +20), textcoords='offset points', fontsize=16,\n",
    "             arrowprops=dict(arrowstyle=\"->\", connectionstyle=\"arc3,rad=.2\"))\n",
    "    ax.legend(loc = 'lower left')\n",
    "    \n",
    "plt.show()"
   ]
  },
  {
   "cell_type": "markdown",
   "metadata": {},
   "source": [
    "You can use your own styles if you want - look at the format of styles/halloween.mplstyle, or the default ones at https://github.com/matplotlib/matplotlib/tree/master/lib/matplotlib/mpl-data/stylelib. List of options at https://matplotlib.org/users/customizing.html.\n",
    "\n",
    "If you're viewing this notebook in the future - it was nearly halloween when I made it..."
   ]
  },
  {
   "cell_type": "code",
   "execution_count": 61,
   "metadata": {},
   "outputs": [],
   "source": [
    "import numpy as np\n",
    "from matplotlib import style\n",
    "from matplotlib import rc\n",
    "import matplotlib.pyplot as plt\n",
    "\n",
    "style.use('styles/halloween.mplstyle')\n",
    "\n",
    "skeletons = np.random.poisson(lam=5.0, size = 5000)\n",
    "\n",
    "middle_of_first_bin = samples.min() \n",
    "middle_of_last_bin = samples.max() \n",
    "\n",
    "plt.figure()\n",
    "plt.hist(skeletons, np.arange(middle_of_first_bin - 0.5, middle_of_last_bin + 0.5, 1))\n",
    "plt.xticks(np.arange(middle_of_first_bin, middle_of_last_bin + 1, 1))\n",
    "plt.ylabel('Number of skeletons!')\n",
    "plt.tight_layout()\n",
    "plt.show()"
   ]
  }
 ],
 "metadata": {
  "kernelspec": {
   "display_name": "Python 3",
   "language": "python",
   "name": "python3"
  },
  "language_info": {
   "codemirror_mode": {
    "name": "ipython",
    "version": 3
   },
   "file_extension": ".py",
   "mimetype": "text/x-python",
   "name": "python",
   "nbconvert_exporter": "python",
   "pygments_lexer": "ipython3",
   "version": "3.5.2"
  }
 },
 "nbformat": 4,
 "nbformat_minor": 2
}
