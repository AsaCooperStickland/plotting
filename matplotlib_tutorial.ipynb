{
 "cells": [
  {
   "cell_type": "markdown",
   "metadata": {},
   "source": [
    "# Introduction\n",
    "Based on stuf by Michael Droettboom (Space Telescope Science Institute)\n",
    "- http://github.com/dmcdougall/strata-mpl-tutorial \n",
    "\n",
    "Matplotlib is probably the single most used Python package for 2D-graphics. It provides both a very quick way to visualize data from Python and publication-quality figures in many formats.\n",
    "\n",
    "# Requirements\n",
    "\n",
    "- Matplotlib\n",
    "- numpy\n",
    "\n",
    "For some of it:\n",
    "\n",
    "- scikit-learn\n",
    "\n",
    "(although the figures produced are .png files in the github repo)\n",
    "\n",
    "Not really required but useful for doing the last part where we go beyond Matplotlib:\n",
    "\n",
    "- bokeh\n",
    "- plotly\n",
    "\n",
    "# Basics\n",
    "\n",
    "![Parts of a figure](matplotlib-anatomy.png)\n",
    "\n",
    "Most of the terms are straightforward but the main thing to remember is that the `Figure` is the final image that may contain 1 or more axes. The `Axes` represent an individual plot."
   ]
  },
  {
   "cell_type": "code",
   "execution_count": null,
   "metadata": {},
   "outputs": [],
   "source": [
    "# use the 'tk' backend so plots come up in windows\n",
    "# If you want plots inline restart the kernel and don't run this! \n",
    "%matplotlib tk\n",
    "# use default settings \n",
    "from matplotlib import rcdefaults\n",
    "rcdefaults()"
   ]
  },
  {
   "cell_type": "markdown",
   "metadata": {},
   "source": [
    "# Basic Plots"
   ]
  },
  {
   "cell_type": "code",
   "execution_count": 2,
   "metadata": {},
   "outputs": [
    {
     "data": {
      "image/png": "[encoded data removed]",
      "text/plain": [
       "<matplotlib.figure.Figure at 0x7f10641ae438>"
      ]
     },
     "metadata": {},
     "output_type": "display_data"
    }
   ],
   "source": [
    "import numpy as np\n",
    "import matplotlib.pyplot as plt\n",
    "\n",
    "def f(x, noise_amount):\n",
    "    y = np.sqrt(x) * np.sin(x)\n",
    "    noise = np.random.normal(0, 1, len(x))\n",
    "    return y + noise_amount * noise\n",
    "\n",
    "X_data  = np.linspace(0, 4.*np.pi, 25)\n",
    "y_data = f(X_data, noise_amount=0.5)\n",
    "\n",
    "X_plot = np.linspace(0, 4.*np.pi, 250)\n",
    "y_plot = f(X_plot, noise_amount=0.)\n",
    "\n",
    "# Below we set up a basic figure \n",
    "\n",
    "plt.figure()\n",
    "plt.scatter(X_data , y_data)\n",
    "plt.scatter(X_data , y_data  + 2.)\n",
    "plt.plot(X_plot, y_plot)\n",
    "\n",
    "plt.show()"
   ]
  },
  {
   "cell_type": "markdown",
   "metadata": {},
   "source": [
    "Let's make our x axis a bit more meaningul, and add some labels:"
   ]
  },
  {
   "cell_type": "code",
   "execution_count": null,
   "metadata": {
    "scrolled": true
   },
   "outputs": [],
   "source": [
    "plt.figure()\n",
    "plt.scatter(X_data , y_data)\n",
    "plt.scatter(X_data , y_data  + 2.)\n",
    "# Put ticks exactly where we want them.\n",
    "plt.xticks([0., np.pi/2, np.pi, 3*np.pi/2, 2*np.pi])\n",
    "# Set limits of the x axis - we could have used plt.ylim too.\n",
    "plt.xlim(0., 2*np.pi)\n",
    "# We can add labels and change this properties (size etc)\n",
    "plt.xlabel('theta', fontsize=20, color='blue')\n",
    "plt.ylabel('Phi', fontsize=20, color='red')\n",
    "plt.plot(X_plot, y_plot)\n",
    "\n",
    "plt.show()"
   ]
  },
  {
   "cell_type": "markdown",
   "metadata": {},
   "source": [
    "We can use Latex inside matplotlib! Just add an r before the string and inclose your maths in dollar signs i.e. ```r'$\\omega$'```. The 'r' means raw text, so ```'$\\theta$'``` doesn't get interpreted as ```\\t``` and ```heta```  (you can test this by removing the r below)."
   ]
  },
  {
   "cell_type": "code",
   "execution_count": null,
   "metadata": {},
   "outputs": [],
   "source": [
    "plt.figure()\n",
    "plt.scatter(X_data , y_data)\n",
    "plt.scatter(X_data , y_data  + 2.)\n",
    "# Add custom labels to ticks\n",
    "plt.xticks([0., np.pi/2, np.pi, 3*np.pi/2, 2*np.pi],\n",
    "           [r'$0$', r'$\\pi/2$', r'$\\pi$', r'$3\\pi/2$', r'$2\\pi$'])\n",
    "# Set limits of the x axis\n",
    "plt.xlim(0., 2*np.pi)\n",
    "plt.xlabel(r'$\\theta$', fontsize=20, color='blue')\n",
    "plt.ylabel(r'$\\Phi$', fontsize=20, color='red')\n",
    "plt.plot(X_plot, y_plot)\n",
    "\n",
    "plt.show()\n"
   ]
  },
  {
   "cell_type": "markdown",
   "metadata": {},
   "source": [
    "And let's annotate some stuff, and make something transparent (I almost always use this somewhere):"
   ]
  },
  {
   "cell_type": "code",
   "execution_count": null,
   "metadata": {},
   "outputs": [],
   "source": [
    "plt.figure()\n",
    "plt.scatter(X_data , y_data)\n",
    "# Alpha goes between 0 and 1, with 0 completely transparent, and 1 unchanged. \n",
    "plt.scatter(X_data , y_data  + 2., alpha = 0.2)\n",
    "plt.xticks([0., np.pi/2, np.pi, 3*np.pi/2, 2*np.pi],\n",
    "           [r'$0$', r'$\\pi/2$', r'$\\pi$', r'$3\\pi/2$', r'$2\\pi$'])\n",
    "plt.xlim(0., 2*np.pi)\n",
    "plt.xlabel(r'$\\Theta$', fontsize=20, color='blue')\n",
    "plt.ylabel(r'$\\Phi$', fontsize=20, color='red')\n",
    "plt.plot(X_plot, y_plot)\n",
    "# You can dig into the documentation and find loads of cool arrows - but the main\n",
    "# important things here are 'xy' - the x and y coords of the point of the arrow\n",
    "# and 'xytext' - where to offset the annoation text to. \n",
    "plt.annotate(r'$\\mathrm{Middle}$',\n",
    "             xy=(np.pi, 0.), xycoords='data',\n",
    "             xytext=(-60, -60), textcoords='offset points', fontsize=16,\n",
    "             arrowprops=dict(arrowstyle=\"->\", connectionstyle=\"arc3,rad=.2\"))\n",
    "\n",
    "plt.show()"
   ]
  },
  {
   "cell_type": "markdown",
   "metadata": {},
   "source": [
    "Add a legend too - I've put it right in the middle right for illustration purposes, but obviously there are better places for it to go! In fact ```loc='best'``` is useful if you don't know where your data is going to be in the graph. For cases where your legned has to go over your data, you can use fancybox and transparent frames."
   ]
  },
  {
   "cell_type": "code",
   "execution_count": null,
   "metadata": {},
   "outputs": [],
   "source": [
    "plt.figure()\n",
    "plt.scatter(X_data , y_data, label ='scatter')\n",
    "# Alpha goes between 0 and 1, with 0 completely transparent, and 1 unchanged. \n",
    "plt.scatter(X_data , y_data  + 2., alpha = 0.2, label ='scatter plus 2')\n",
    "plt.xticks([0., np.pi/2, np.pi, 3*np.pi/2, 2*np.pi],\n",
    "           [r'$0$', r'$\\pi/2$', r'$\\pi$', r'$3\\pi/2$', r'$2\\pi$'])\n",
    "plt.xlim(0., 2*np.pi)\n",
    "plt.xlabel(r'$\\Theta$', fontsize=20, color='blue')\n",
    "plt.ylabel(r'$\\Phi$', fontsize=20, color='red')\n",
    "plt.plot(X_plot, y_plot, label ='plot')\n",
    "# You can dig into the documentation and find loads of cool arrows - but the main\n",
    "# important things here are 'xy' - the x and y coords of the point of the arrow\n",
    "# and 'xytext' - where to offset the annoation text to. \n",
    "plt.annotate(r'$\\mathrm{Middle}$',\n",
    "             xy=(np.pi, 0.), xycoords='data',\n",
    "             xytext=(-60, -60), textcoords='offset points', fontsize=16,\n",
    "             arrowprops=dict(arrowstyle=\"->\", connectionstyle=\"arc3,rad=.2\"))\n",
    "# 'fancybox=True' and 'framealpha=0.5' are of course totally optional!\n",
    "plt.legend(loc='center right', fancybox=True, framealpha=0.5)\n",
    "plt.show()"
   ]
  },
  {
   "cell_type": "markdown",
   "metadata": {},
   "source": [
    "In data science we often want Histograms - just use plt.hist()!"
   ]
  },
  {
   "cell_type": "code",
   "execution_count": null,
   "metadata": {},
   "outputs": [],
   "source": [
    "samples = np.random.normal(size = 5000)\n",
    "plt.figure()\n",
    "# I often make my histograms a bit transparent by changing alpha.\n",
    "plt.hist(samples, bins=30, alpha=0.6)\n",
    "plt.show()"
   ]
  },
  {
   "cell_type": "markdown",
   "metadata": {},
   "source": [
    "We can even do a 2d Histogram!"
   ]
  },
  {
   "cell_type": "code",
   "execution_count": null,
   "metadata": {},
   "outputs": [],
   "source": [
    "# This isn't needed unless we use a log scale.\n",
    "from matplotlib.colors import LogNorm\n",
    "\n",
    "# Get samples from a multivariate Gaussian where the variables are correlated.\n",
    "samples_2d = np.random.multivariate_normal(mean=[6., 12.0], cov=[[0.7, 0.3], [0.3, 0.7]], size=10000) \n",
    "\n",
    "x = samples_2d[:,0]\n",
    "y = samples_2d[:,1]\n",
    "\n",
    "plt.figure()\n",
    "plt.hist2d(x, y, bins = 20)\n",
    "# Optionally we can use a log scale:\n",
    "# plt.hist2d(x, y, bins = 20, norm=LogNorm())\n",
    "plt.colorbar()\n",
    "plt.show()\n",
    "\n",
    "histogram = plt.gcf()"
   ]
  },
  {
   "cell_type": "markdown",
   "metadata": {},
   "source": [
    "More advanced 2d histograms here: https://python-graph-gallery.com/86-avoid-overlapping-in-scatterplot-with-2d-density/"
   ]
  },
  {
   "cell_type": "markdown",
   "metadata": {},
   "source": [
    "# Subplots!\n",
    "\n",
    "More useful stuff here: https://matplotlib.org/examples/pylab_examples/subplots_demo.html, and here: https://matplotlib.org/examples/pylab_examples/demo_tight_layout.html\n",
    "\n",
    "The format is ```plt.subplot(#rows, #columns, which one to plot)```"
   ]
  },
  {
   "cell_type": "code",
   "execution_count": null,
   "metadata": {},
   "outputs": [],
   "source": [
    "plt.figure()\n",
    "plt.subplot(2, 1, 1)\n",
    "plt.scatter(X_data , y_data)\n",
    "plt.subplot(2, 1, 2)\n",
    "plt.scatter(X_data , y_data)\n",
    "plt.show()"
   ]
  },
  {
   "cell_type": "code",
   "execution_count": null,
   "metadata": {},
   "outputs": [],
   "source": [
    "plt.figure()\n",
    "plt.subplot(3, 1, 1)\n",
    "plt.scatter(X_data , y_data)\n",
    "plt.subplot(3, 1, 2)\n",
    "plt.scatter(X_data , y_data + 1.)\n",
    "plt.subplot(3, 1, 3)\n",
    "plt.scatter(X_data , y_data - 1.)\n",
    "plt.show()"
   ]
  },
  {
   "cell_type": "markdown",
   "metadata": {},
   "source": [
    "Sometimes doing subplots can result in plots being crammed in against each other.\n",
    "Often this can be solved by ```plt.tight_layout()``` at the end. Try plotting with and without it\n",
    "below."
   ]
  },
  {
   "cell_type": "code",
   "execution_count": null,
   "metadata": {},
   "outputs": [],
   "source": [
    "plt.figure()\n",
    "plt.subplot(1, 2, 1)\n",
    "plt.scatter(X_data , y_data)\n",
    "plt.xlabel('x axis')\n",
    "plt.ylabel('y axis')\n",
    "plt.subplot(1, 2, 2)\n",
    "plt.scatter(X_data , y_data)\n",
    "plt.xlabel('x axis')\n",
    "plt.ylabel('y axis')\n",
    "# plt.tight_layout()\n",
    "plt.show()"
   ]
  },
  {
   "cell_type": "markdown",
   "metadata": {},
   "source": [
    "Get even more control with the axes command. The format here is ```plt.axes([bottom corner x, bottom corner y, x size, y size])```. Probably the easiest way to figure it out is to just play around with it."
   ]
  },
  {
   "cell_type": "code",
   "execution_count": 20,
   "metadata": {},
   "outputs": [
    {
     "data": {
      "image/png": "[encoded data removed]",
      "text/plain": [
       "<matplotlib.figure.Figure at 0x7f102e21f9b0>"
      ]
     },
     "metadata": {},
     "output_type": "display_data"
    }
   ],
   "source": [
    "plt.figure()\n",
    "plt.axes([0.1, 0.1, 0.8, 0.8])\n",
    "plt.scatter(X_data , y_data)\n",
    "plt.axes([0.325, 0.6, 0.45, 0.5])\n",
    "plt.scatter(X_data, y_data, s=100, color='red')\n",
    "# zoom in on some bit of data\n",
    "plt.xlim(np.pi, 3.5 * np.pi)\n",
    "plt.show()"
   ]
  },
  {
   "cell_type": "markdown",
   "metadata": {},
   "source": [
    "There's a complicated, but cool zoom example in the matplotlib examples: http://matplotlib.org/examples/pylab_examples/axes_zoom_effect.html"
   ]
  },
  {
   "cell_type": "markdown",
   "metadata": {},
   "source": [
    "# APIs\n",
    "\n",
    "Matplotlib has two APIs: pyplot (we used that above - plt.plot() and so on) and the object-oriented API.\n",
    "\n",
    "pyplot is convenient for interactive plotting, since it remembers \"state\", such as the last Axes that was plotted to, in order to plot the next item to it again. Useful for exploratory data analysis. But best practices is to use the object-oriented API like I do below - it gets useful when doing more complicated plots, especially when you write functions to make similiar plots for different datasets. "
   ]
  },
  {
   "cell_type": "code",
   "execution_count": null,
   "metadata": {},
   "outputs": [],
   "source": [
    "import numpy as np\n",
    "from matplotlib import rc\n",
    "rc('font',**{'family':'sans-serif','sans-serif':['Helvetica']})\n",
    "rc('text', usetex=True)\n",
    "import matplotlib.pyplot as plt\n",
    "from sklearn.linear_model import BayesianRidge, LinearRegression\n",
    "\n",
    "def f(x, noise_amount):\n",
    "    y = np.sin(x)\n",
    "    noise = np.random.normal(0, 1, len(x))\n",
    "    return y + noise_amount * noise\n",
    "\n",
    "X_data  = np.linspace(0, 2.*np.pi, 25)\n",
    "y_data = f(X_data, noise_amount=0.5)\n",
    "\n",
    "X_plot = np.linspace(-0.9, 2.*np.pi + 0.9, 250)\n",
    "y_plot = f(X_plot, noise_amount=0.)\n",
    "\n",
    "ys_store = []\n",
    "\n",
    "for degree in range(1, 7):\n",
    "    clf_poly = BayesianRidge(alpha_1=3.5)\n",
    "    clf_poly.fit(np.vander(X_data, degree), y_data)\n",
    "    y_mean, y_std = clf_poly.predict(np.vander(X_plot, degree), return_std=True)\n",
    "    ys_store.append((y_mean, y_std))\n",
    "\n",
    "fig = plt.figure()\n",
    "\n",
    "for i in range(6):\n",
    "    ax = fig.add_subplot(3, 2, i+1)\n",
    "    y_mean, y_std = ys_store[i]\n",
    "    ax.scatter(X_data, y_data, color='blue', alpha=0.7)\n",
    "    ax.plot(X_plot, y_plot, 'b--', alpha = 0.3, label=r'$\\mathrm{Data}$')\n",
    "    degree = str(i)\n",
    "    label = ' '.join([degree, r'$\\mathrm{degree}$', r'$\\mathrm{poly}$'])\n",
    "    ax.plot(X_plot, y_mean, label=label)\n",
    "    # Fill between is a very cool function - useful for showing standard deviation.\n",
    "    ax.fill_between(X_plot, y_mean + y_std, y_mean - y_std, alpha=0.3)\n",
    "    # This would be plt.xticks in the pyplot API.\n",
    "    # Often we have to use 'ax.set_something' in the object-oriented API\n",
    "    ax.set_xticks([0., np.pi/2, np.pi, 3*np.pi/2, 2*np.pi])\n",
    "    ax.set_xticklabels([r'$0$', r'$\\pi/2$', r'$\\pi$', r'$3\\pi/2$', r'$2\\pi$'])\n",
    "    ax.set_yticks([-1, 0, +1])\n",
    "    # Again - set_ylim rather than plt.ylim\n",
    "    ax.set_ylim(-2.5, 2.5)\n",
    "    ax.set_xlim(-0.9, 2.*np.pi + 0.9)\n",
    "\n",
    "plt.savefig('boring_regression.png')\n",
    "plt.show()"
   ]
  },
  {
   "cell_type": "markdown",
   "metadata": {},
   "source": [
    "# Styles\n",
    "Matplotlib also comes with a number of \"styles\" which make it easy to change defaults. Try \"seaborn\" or \"ggplot\". In the example below I've also thrown in a color palette (```plt.get_cmap```) which will automatically chose nice colours for each of your new plots. "
   ]
  },
  {
   "cell_type": "code",
   "execution_count": null,
   "metadata": {},
   "outputs": [],
   "source": [
    "from matplotlib import style\n",
    "\n",
    "# Use the 'seaborn' style!\n",
    "style.use('seaborn')\n",
    "# Use a pre-specified set of colours\n",
    "palette = plt.get_cmap('Set1')\n",
    "fig = plt.figure()\n",
    "\n",
    "for i in range(6):\n",
    "    ax = fig.add_subplot(3, 2, i+1)\n",
    "    y_mean, y_std = ys_store[i]\n",
    "    ax.scatter(X_data, y_data, color='blue', alpha=0.7)\n",
    "    ax.plot(X_plot, y_plot, 'b--', alpha = 0.3, label=r'$\\mathrm{Data}$')\n",
    "    degree = str(i)\n",
    "    label = ' '.join([degree, r'$\\mathrm{degree}$', r'$\\mathrm{poly}$'])\n",
    "    # 'color = palette(i)' below just chooses the ith colour in 'Set1'.\n",
    "    ax.plot(X_plot, y_mean, color=palette(i), alpha=0.9, label=label)\n",
    "    ax.fill_between(X_plot, y_mean + y_std, y_mean - y_std, alpha=0.3)\n",
    "    ax.set_xticks([0., np.pi/2, np.pi, 3*np.pi/2, 2*np.pi])\n",
    "    ax.set_xticklabels([r'$0$', r'$\\pi/2$', r'$\\pi$', r'$3\\pi/2$', r'$2\\pi$'])\n",
    "    ax.set_yticks([-1, 0, +1])\n",
    "    ax.set_ylim(-2.5, 2.5)\n",
    "    ax.set_xlim(-0.9, 2.*np.pi + 0.9)\n",
    "    # Change ticks for specific axes - avoid having unnecessary x ticks.\n",
    "    if i in range(4):\n",
    "        ax.tick_params(labelbottom='off')\n",
    "    if i not in [0,2,4]:\n",
    "        ax.tick_params(labelleft='off')\n",
    "    # Annotate the last axes.\n",
    "    if i == 5:\n",
    "        ax.annotate(r'$\\mathrm{Overfitting}$',\n",
    "             xy=(X_plot[-10], y_mean[-10]), xycoords='data',\n",
    "             xytext=(-50, +20), textcoords='offset points', fontsize=16,\n",
    "             arrowprops=dict(arrowstyle=\"->\", connectionstyle=\"arc3,rad=.2\"))\n",
    "    ax.legend(loc ='lower left', fancybox=True)\n",
    "\n",
    "plt.savefig('cool_regression.png')\n",
    "plt.show()"
   ]
  },
  {
   "cell_type": "markdown",
   "metadata": {},
   "source": [
    "You can use your own styles if you want - look at the format of styles/halloween.mplstyle, or the default ones at https://github.com/matplotlib/matplotlib/tree/master/lib/matplotlib/mpl-data/stylelib. List of the things you can customize at: https://matplotlib.org/users/customizing.html.\n",
    "\n",
    "If you're viewing this notebook in the future - it was nearly halloween when I made it..."
   ]
  },
  {
   "cell_type": "code",
   "execution_count": null,
   "metadata": {},
   "outputs": [],
   "source": [
    "import numpy as np\n",
    "from matplotlib import style\n",
    "from matplotlib import rc\n",
    "import matplotlib.pyplot as plt\n",
    "\n",
    "style.use('styles/halloween.mplstyle')\n",
    "\n",
    "skeletons = np.random.poisson(lam=5.0, size = 5000)\n",
    "\n",
    "first_bin = skeletons.min() \n",
    "last_bin = skeletons.max() \n",
    "# Have a bin for each integer.\n",
    "bin_positions = np.arange(first_bin - 0.5, last_bin + 0.5, 1)\n",
    "\n",
    "plt.figure()\n",
    "plt.hist(skeletons, bin_positions)\n",
    "# Put the ticks in the middle of the bins\n",
    "plt.xticks(bin_positions + 0.5)\n",
    "plt.ylabel('Frequency')\n",
    "plt.xlabel('Skeletons!')\n",
    "plt.tight_layout()\n",
    "plt.show()\n",
    "plt.savefig('halloween.png')\n",
    "\n",
    "# gct stands for 'get current fig' - this returns the matplotlib object. \n",
    "# Not needed here, but will be used by plotly later on...\n",
    "# (No need for this in object oriented API)\n",
    "halloween = plt.gcf()"
   ]
  },
  {
   "cell_type": "markdown",
   "metadata": {},
   "source": [
    "# XKCD!"
   ]
  },
  {
   "cell_type": "code",
   "execution_count": null,
   "metadata": {},
   "outputs": [],
   "source": [
    "import numpy as np\n",
    "import matplotlib \n",
    "matplotlib.rcdefaults()\n",
    "from matplotlib import pyplot as plt\n",
    "\n",
    "plt.xkcd()\n",
    "\n",
    "# Set up very scientific data\n",
    "x = np.linspace(-100., 100., num=500, endpoint=True)\n",
    "people = np.minimum(100., 200. * np.exp(-x * x / (2.0)))\n",
    "\n",
    "fig = plt.figure()\n",
    "ax = fig.add_subplot(1, 1, 1)\n",
    "\n",
    "ax.plot(x, people)\n",
    "ax.set_xlim(-100, 100.)\n",
    "ax.set_xlabel('Time', size=22)\n",
    "ax.set_ylabel('People having \\n tea and biscuits (%)', size=22)\n",
    "ax.set_xticks([-75., 0, 75.])\n",
    "ax.set_xticklabels(['before', 'Wednesday 1pm', 'after'])\n",
    "plt.tight_layout()\n",
    "plt.savefig('cdtea.pdf')\n",
    "plt.show()"
   ]
  },
  {
   "cell_type": "markdown",
   "metadata": {},
   "source": [
    "# People don't read\n",
    "\n",
    "Is this just for fun? \n",
    "\n",
    "(from: https://www.chrisstucchio.com/blog/2014/why_xkcd_style_graphs_are_important.html)\n",
    " \n",
    "\n",
    "'People don't read: No one reads disclaimers, caveats, or explanations of graphs. They look at pictures. So it's important to make sure that the pictures reflect your intent.\n",
    "\n",
    "I've tried this a number of times since discovering xkcd (in private contexts which I can't share, unfortunately) - displaying schematic data in xkcd mode and precise data in normal matplotlib style. It's actually been quite useful at reducing the odds of people interpreting schematic diagrams as something more than they are. Try it out, it might work for you too.'"
   ]
  },
  {
   "cell_type": "markdown",
   "metadata": {},
   "source": [
    "# Animation\n",
    "I've not mentioned animation, but Matplotlib can do it: see https://matplotlib.org/2.0.0/examples/animation/index.html\n",
    "\n",
    "Covered at bit in [this](https://www.youtube.com/watch?v=tWHiUk7PRyw) talk."
   ]
  },
  {
   "cell_type": "markdown",
   "metadata": {},
   "source": [
    "# Beyond Matplotlib\n",
    "\n",
    "# 1: Plotly\n",
    "\n",
    "Don't like matplotlib? Try [Plotly](https://plot.ly/python/) for cool interactive graphs. A few examples: \n",
    "\n",
    "- [networks](https://plot.ly/python/network-graphs/) \n",
    "\n",
    "- [histograms](https://plot.ly/python/heatmaps-contours-and-2dhistograms-tutorial/)\n",
    "\n",
    "Convert matplotlib to Plotly: http://nbviewer.jupyter.org/github/plotly/python-user-guide/blob/master/s6_matplotlylib/s6_matplotlylib.ipynb"
   ]
  },
  {
   "cell_type": "code",
   "execution_count": null,
   "metadata": {},
   "outputs": [],
   "source": [
    "import plotly.plotly as py\n",
    "# (*) Useful Python/Plotly tools\n",
    "import plotly.tools as tls\n",
    "# (*) Graph objects to piece together plots\n",
    "from plotly.graph_objs import *\n",
    "\n",
    "py.iplot_mpl(halloween, strip_style=True,\n",
    "             filename='halloween')"
   ]
  },
  {
   "cell_type": "markdown",
   "metadata": {},
   "source": [
    "Running this cell probably won't work because you have to sign in to your Plotly account with a credentials file: but this result is [on my account](https://plot.ly/~AsaCooperStickland/4/)."
   ]
  },
  {
   "cell_type": "markdown",
   "metadata": {},
   "source": [
    "# 2: Seaborn\n",
    "Attempt to buiild on Matplotlib and make it look nicer - e.g. color palettes, styles - as we've seen, a lot of this functionality has been added to Matplotlib. \n",
    "\n",
    "But has some nice built in stuff e.g. https://python-graph-gallery.com/82-marginal-plot-with-seaborn/"
   ]
  },
  {
   "cell_type": "markdown",
   "metadata": {},
   "source": [
    "# 3. Bokeh\n",
    "\n",
    "For visualisation in web browswers and interactvity: 'goal is to provide elegant, concise construction of basic exploratory and advanced custom graphics in the style of D3.js'. \n",
    "\n",
    "I've not used this too much, but to me it seems really cool!"
   ]
  },
  {
   "cell_type": "code",
   "execution_count": null,
   "metadata": {},
   "outputs": [],
   "source": [
    "import numpy as np\n",
    "\n",
    "from bokeh.plotting import figure, show, output_file\n",
    "\n",
    "N = 4000\n",
    "samples_2d = np.random.multivariate_normal(mean=[100., 100.0], cov=[[50.*0.7, 50.*0.3], [50.*0.3, 50.*0.7]], size=N) \n",
    "\n",
    "x = samples_2d[:,0]\n",
    "y = samples_2d[:,1]\n",
    "\n",
    "# Give the points random radius and color\n",
    "radii = np.random.random(size=N) * 0.3\n",
    "colors = [\n",
    "    \"#%02x%02x%02x\" % (int(r), int(g), 500) for r, g in zip(50+2*x, 30+2*y)\n",
    "]\n",
    "\n",
    "# Add some tools for interaction\n",
    "TOOLS=\"hover,crosshair,pan,wheel_zoom,zoom_in,zoom_out,box_zoom,undo,redo,reset,tap,save,box_select,poly_select,lasso_select,\"\n",
    "\n",
    "p = figure(tools=TOOLS)\n",
    "\n",
    "p.scatter(x, y, radius=radii,\n",
    "          fill_color=colors, fill_alpha=0.6,\n",
    "          line_color=None)\n",
    "\n",
    "output_file(\"color_scatter.html\", title=\"color_scatter.py example\")\n",
    "\n",
    "show(p)  # open a browser"
   ]
  },
  {
   "cell_type": "markdown",
   "metadata": {},
   "source": [
    "# 4. Altair\n",
    "\n",
    "Don't know much about this one: wants to be a more declarative language for visualisation. \n",
    "https://altair-viz.github.io/"
   ]
  },
  {
   "cell_type": "markdown",
   "metadata": {},
   "source": [
    "# 5. VisPy\n",
    "Fast, scalable - for when you want to plot a million points!"
   ]
  },
  {
   "cell_type": "markdown",
   "metadata": {},
   "source": [
    "# Conclusion + Further Reading\n",
    "\n",
    "- Loads of examples at the [Matplotlib gallery](http://matplotlib.org/gallery.html) and (I think even more usefully) in the [Python graph gallery](https://python-graph-gallery.com/).\n",
    "- [This](https://www.youtube.com/watch?v=tWHiUk7PRyw) talk with github repo: https://github.com/dmcdougall/strata-mpl-tutorial"
   ]
  }
 ],
 "metadata": {
  "kernelspec": {
   "display_name": "Python 3",
   "language": "python",
   "name": "python3"
  },
  "language_info": {
   "codemirror_mode": {
    "name": "ipython",
    "version": 3
   },
   "file_extension": ".py",
   "mimetype": "text/x-python",
   "name": "python",
   "nbconvert_exporter": "python",
   "pygments_lexer": "ipython3",
   "version": "3.5.2"
  }
 },
 "nbformat": 4,
 "nbformat_minor": 2
}
