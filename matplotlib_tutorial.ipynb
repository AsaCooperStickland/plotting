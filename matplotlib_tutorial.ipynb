{
 "cells": [
  {
   "cell_type": "markdown",
   "metadata": {},
   "source": [
    "# Introduction\n",
    "Based on stuf by Michael Droettboom (Space Telescope Science Institute)\n",
    "- http://github.com/dmcdougall/strata-mpl-tutorial \n",
    "\n",
    "Matplotlib is probably the single most used Python package for 2D-graphics. It provides both a very quick way to visualize data from Python and publication-quality figures in many formats.\n",
    "\n",
    "![Parts of a figure](matplotlib-anatomy.png)\n",
    "\n",
    "Most of the terms are straightforward but the main thing to remember is that the `Figure` is the final image that may contain 1 or more axes. The `Axes` represent an individual plot."
   ]
  },
  {
   "cell_type": "code",
   "execution_count": 1,
   "metadata": {},
   "outputs": [],
   "source": [
    "# use the 'tk' backend so plots come up in windows\n",
    "%matplotlib tk\n",
    "# use default settings \n",
    "from matplotlib import rcdefaults\n",
    "rcdefaults()"
   ]
  },
  {
   "cell_type": "code",
   "execution_count": 2,
   "metadata": {},
   "outputs": [],
   "source": [
    "import numpy as np\n",
    "import matplotlib.pyplot as plt\n",
    "\n",
    "def f(x, noise_amount):\n",
    "    y = np.sqrt(x) * np.sin(x)\n",
    "    noise = np.random.normal(0, 1, len(x))\n",
    "    return y + noise_amount * noise\n",
    "\n",
    "X_data  = np.linspace(0, 4.*np.pi, 25)\n",
    "y_data = f(X_data, noise_amount=0.5)\n",
    "\n",
    "X_plot = np.linspace(0, 4.*np.pi, 250)\n",
    "y_plot = f(X_plot, noise_amount=0.)\n",
    "\n",
    "plt.scatter(X_data , y_data)\n",
    "plt.scatter(X_data , y_data  + 2.)\n",
    "plt.plot(X_plot, y_plot)\n",
    "\n",
    "plt.show()"
   ]
  },
  {
   "cell_type": "code",
   "execution_count": null,
   "metadata": {},
   "outputs": [],
   "source": []
  },
  {
   "cell_type": "code",
   "execution_count": 3,
   "metadata": {},
   "outputs": [],
   "source": [
    "from sklearn.linear_model import BayesianRidge, LinearRegression\n",
    "\n",
    "\n",
    "\n",
    "degree = 10\n",
    "X_data  = np.linspace(0, 4.*np.pi, 25)\n",
    "y_data = f(X_data, noise_amount=0.5)\n",
    "\n",
    "X_plot = np.linspace(0, 4.*np.pi, 250)\n",
    "y_plot = f(X_plot, noise_amount=0.)\n",
    "clf_poly = BayesianRidge()\n",
    "clf_poly.fit(np.vander(X_data, degree), y_data)\n",
    "\n",
    "X_plot = np.linspace(0, 11, 25)\n",
    "y_plot = f(X_plot, noise_amount=0)\n",
    "y_mean, y_std = clf_poly.predict(np.vander(X_plot, degree), return_std=True)"
   ]
  },
  {
   "cell_type": "code",
   "execution_count": 55,
   "metadata": {},
   "outputs": [],
   "source": [
    "import numpy as np\n",
    "from matplotlib import style\n",
    "from matplotlib import rc\n",
    "rc('font',**{'family':'sans-serif','sans-serif':['Helvetica']})\n",
    "rc('text', usetex=True)\n",
    "import matplotlib.pyplot as plt\n",
    "from sklearn.linear_model import BayesianRidge, LinearRegression\n",
    "\n",
    "def f(x, noise_amount):\n",
    "    y = np.sin(x)\n",
    "    noise = np.random.normal(0, 1, len(x))\n",
    "    return y + noise_amount * noise\n",
    "\n",
    "X_data  = np.linspace(0, 2.*np.pi, 25)\n",
    "y_data = f(X_data, noise_amount=0.5)\n",
    "\n",
    "X_plot = np.linspace(-0.9, 2.*np.pi + 0.9, 250)\n",
    "y_plot = f(X_plot, noise_amount=0.)\n",
    "\n",
    "ys_store = []\n",
    "\n",
    "for degree in range(1, 7):\n",
    "    clf_poly = BayesianRidge(alpha_1=3.5)\n",
    "    clf_poly.fit(np.vander(X_data, degree), y_data)\n",
    "    y_mean, y_std = clf_poly.predict(np.vander(X_plot, degree), return_std=True)\n",
    "    ys_store.append((y_mean, y_std))\n",
    "\n",
    "style.use('seaborn')\n",
    "palette = plt.get_cmap('Set1')\n",
    "fig = plt.figure()\n",
    "\n",
    "for i in range(6):\n",
    "    ax = fig.add_subplot(3, 2, i+1)\n",
    "    y_mean, y_std = ys_store[i]\n",
    "    ax.scatter(X_data, y_data, color='blue', alpha=0.7)\n",
    "    ax.plot(X_plot, y_plot, 'b--', alpha = 0.3, label=r'$\\mathrm{Data}$')\n",
    "    degree = str(i)\n",
    "    label = ' '.join([degree, r'$\\mathrm{degree}$', r'$\\mathrm{poly}$'])\n",
    "    ax.plot(X_plot, y_mean, color=palette(i+2), alpha=0.9, label=label)\n",
    "    ax.fill_between(X_plot, y_mean + y_std, y_mean - y_std, alpha=0.3)\n",
    "    ax.set_xticks([0., np.pi/2, np.pi, 3*np.pi/2, 2*np.pi])\n",
    "    ax.set_xticklabels([r'$0$', r'$\\pi/2$', r'$\\pi$', r'$3\\pi/2$', r'$2\\pi$'])\n",
    "    ax.set_yticks([-1, 0, +1])\n",
    "    ax.set_ylim(-2.5, 2.5)\n",
    "    ax.set_xlim(-0.9, 2.*np.pi + 0.9)\n",
    "    if i in range(4):\n",
    "        ax.tick_params(labelbottom='off')\n",
    "    if i not in [0,2,4]:\n",
    "        ax.tick_params(labelleft='off')\n",
    "    if i == 5:\n",
    "        ax.annotate(r'$\\mathrm{Overfitting}$',\n",
    "             xy=(X_plot[-10], y_mean[-10]), xycoords='data',\n",
    "             xytext=(-50, +20), textcoords='offset points', fontsize=16,\n",
    "             arrowprops=dict(arrowstyle=\"->\", connectionstyle=\"arc3,rad=.2\"))\n",
    "    ax.legend(loc = 'lower left')\n",
    "    \n",
    "plt.show()"
   ]
  }
 ],
 "metadata": {
  "kernelspec": {
   "display_name": "Python 3",
   "language": "python",
   "name": "python3"
  },
  "language_info": {
   "codemirror_mode": {
    "name": "ipython",
    "version": 3
   },
   "file_extension": ".py",
   "mimetype": "text/x-python",
   "name": "python",
   "nbconvert_exporter": "python",
   "pygments_lexer": "ipython3",
   "version": "3.5.2"
  }
 },
 "nbformat": 4,
 "nbformat_minor": 2
}
